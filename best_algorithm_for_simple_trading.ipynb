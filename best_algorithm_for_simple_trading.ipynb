{
 "cells": [
  {
   "cell_type": "code",
   "execution_count": 1,
   "id": "6819ebb7",
   "metadata": {},
   "outputs": [],
   "source": [
    "import pandas as pd\n",
    "import numpy as np\n",
    "import matplotlib.pyplot as plt\n",
    "import yfinance as yf\n",
    "import warnings\n",
    "warnings.filterwarnings('ignore')"
   ]
  },
  {
   "cell_type": "code",
   "execution_count": 2,
   "id": "1486b0c6",
   "metadata": {},
   "outputs": [
    {
     "name": "stdout",
     "output_type": "stream",
     "text": [
      "[*********************100%***********************]  1 of 1 completed\n"
     ]
    }
   ],
   "source": [
    "sp500_ohlc_df = yf.download('^GSPC', start='2016-01-01', end='2022-10-01', interval = '1d')"
   ]
  },
  {
   "cell_type": "code",
   "execution_count": 3,
   "id": "deec2fff",
   "metadata": {},
   "outputs": [],
   "source": [
    "clear_sp500_ohlc_df = sp500_ohlc_df.drop(['Open','High','Low','Close','Volume'], axis=1)\n",
    "clear_sp500_ohlc_df.rename(columns={'Adj Close': 'adjclose'}, inplace = True)\n",
    "clear_sp500_ohlc_df['adjclose'] = clear_sp500_ohlc_df['adjclose'].round(decimals = 2)\n",
    "\n",
    "clear_sp500_ohlc_df = clear_sp500_ohlc_df.reset_index().rename(columns={clear_sp500_ohlc_df.index.name:'date'})\n",
    "clear_sp500_ohlc_df['ts'] = pd.to_datetime(clear_sp500_ohlc_df['date']).astype(np.int64)"
   ]
  },
  {
   "cell_type": "code",
   "execution_count": 4,
   "id": "51081988",
   "metadata": {},
   "outputs": [
    {
     "data": {
      "text/html": [
       "<div>\n",
       "<style scoped>\n",
       "    .dataframe tbody tr th:only-of-type {\n",
       "        vertical-align: middle;\n",
       "    }\n",
       "\n",
       "    .dataframe tbody tr th {\n",
       "        vertical-align: top;\n",
       "    }\n",
       "\n",
       "    .dataframe thead th {\n",
       "        text-align: right;\n",
       "    }\n",
       "</style>\n",
       "<table border=\"1\" class=\"dataframe\">\n",
       "  <thead>\n",
       "    <tr style=\"text-align: right;\">\n",
       "      <th></th>\n",
       "      <th>date</th>\n",
       "      <th>adjclose</th>\n",
       "      <th>ts</th>\n",
       "    </tr>\n",
       "  </thead>\n",
       "  <tbody>\n",
       "    <tr>\n",
       "      <th>0</th>\n",
       "      <td>2015-12-31</td>\n",
       "      <td>2043.94</td>\n",
       "      <td>1451520000000000000</td>\n",
       "    </tr>\n",
       "    <tr>\n",
       "      <th>1</th>\n",
       "      <td>2016-01-04</td>\n",
       "      <td>2012.66</td>\n",
       "      <td>1451865600000000000</td>\n",
       "    </tr>\n",
       "    <tr>\n",
       "      <th>2</th>\n",
       "      <td>2016-01-05</td>\n",
       "      <td>2016.71</td>\n",
       "      <td>1451952000000000000</td>\n",
       "    </tr>\n",
       "    <tr>\n",
       "      <th>3</th>\n",
       "      <td>2016-01-06</td>\n",
       "      <td>1990.26</td>\n",
       "      <td>1452038400000000000</td>\n",
       "    </tr>\n",
       "    <tr>\n",
       "      <th>4</th>\n",
       "      <td>2016-01-07</td>\n",
       "      <td>1943.09</td>\n",
       "      <td>1452124800000000000</td>\n",
       "    </tr>\n",
       "  </tbody>\n",
       "</table>\n",
       "</div>"
      ],
      "text/plain": [
       "        date  adjclose                   ts\n",
       "0 2015-12-31   2043.94  1451520000000000000\n",
       "1 2016-01-04   2012.66  1451865600000000000\n",
       "2 2016-01-05   2016.71  1451952000000000000\n",
       "3 2016-01-06   1990.26  1452038400000000000\n",
       "4 2016-01-07   1943.09  1452124800000000000"
      ]
     },
     "execution_count": 4,
     "metadata": {},
     "output_type": "execute_result"
    }
   ],
   "source": [
    "clear_sp500_ohlc_df.head(5)"
   ]
  },
  {
   "cell_type": "markdown",
   "id": "f24efa6b",
   "metadata": {},
   "source": [
    "# Split data into train, validation, and test set"
   ]
  },
  {
   "cell_type": "code",
   "execution_count": 5,
   "id": "b59c4b7a",
   "metadata": {},
   "outputs": [],
   "source": [
    "from sklearn.model_selection import train_test_split"
   ]
  },
  {
   "cell_type": "code",
   "execution_count": 6,
   "id": "93681f12",
   "metadata": {},
   "outputs": [],
   "source": [
    "features = clear_sp500_ohlc_df[['date', 'ts']]\n",
    "labels = clear_sp500_ohlc_df['adjclose']"
   ]
  },
  {
   "cell_type": "code",
   "execution_count": 7,
   "id": "3b655f75",
   "metadata": {},
   "outputs": [],
   "source": [
    "X_train, X_test, y_train, y_test = train_test_split(features, labels, test_size=0.4, random_state=42, shuffle=True)\n",
    "X_val, X_test, y_val, y_test = train_test_split(X_test, y_test, test_size=0.5, random_state=42, shuffle=True)"
   ]
  },
  {
   "cell_type": "code",
   "execution_count": 8,
   "id": "c055d7b6",
   "metadata": {},
   "outputs": [
    {
     "name": "stdout",
     "output_type": "stream",
     "text": [
      "0.6\n",
      "0.2\n",
      "0.2\n"
     ]
    }
   ],
   "source": [
    "for dataset in [y_train, y_val, y_test]:\n",
    "    print(round(len(dataset) / len(labels), 2))"
   ]
  },
  {
   "cell_type": "code",
   "execution_count": 9,
   "id": "d3c88578",
   "metadata": {},
   "outputs": [
    {
     "data": {
      "image/png": "[encoded data removed]",
      "text/plain": [
       "<Figure size 864x648 with 1 Axes>"
      ]
     },
     "metadata": {
      "needs_background": "light"
     },
     "output_type": "display_data"
    }
   ],
   "source": [
    "plt.rcParams['figure.figsize'] = [12, 9]\n",
    "plt.grid(which = 'major', color = 'k', linestyle = '-.', linewidth=0.5)\n",
    "plt.title('S&P500', fontsize=16)\n",
    "plt.ylabel('Price', fontsize=14)\n",
    "plt.xlabel('Date', fontsize=14)\n",
    "\n",
    "\n",
    "plt.scatter(X_train['date'], y_train, label= 'Train', color= 'red', marker= '*', s=30)\n",
    "plt.scatter(X_test['date'], y_test, label= 'Test', color= 'yellow', marker= '*', s=20)\n",
    "plt.scatter(X_val['date'], y_val, label= 'Validation', color= 'green', marker= '*', s=10)\n",
    "\n",
    "plt.legend()\n",
    "plt.show()"
   ]
  },
  {
   "cell_type": "markdown",
   "id": "15887ac9",
   "metadata": {},
   "source": [
    "# Write out all data"
   ]
  },
  {
   "cell_type": "code",
   "execution_count": 10,
   "id": "be63c5fc",
   "metadata": {},
   "outputs": [],
   "source": [
    "X_train.to_csv('train_features.csv', index=False, header=False)\n",
    "X_val.to_csv('val_features.csv', index=False, header=False)\n",
    "X_test.to_csv('test_features.csv', index=False, header=False)\n",
    "\n",
    "y_train.to_csv('train_labels.csv', index=False, header=False)\n",
    "y_val.to_csv('val_labels.csv', index=False, header=False)\n",
    "y_test.to_csv('test_labels.csv', index=False, header=False)"
   ]
  },
  {
   "cell_type": "markdown",
   "id": "8a958930",
   "metadata": {},
   "source": [
    "# Linear Regression: Fit and evaluate a model"
   ]
  },
  {
   "cell_type": "code",
   "execution_count": 11,
   "id": "50a94b11",
   "metadata": {},
   "outputs": [],
   "source": [
    "import joblib\n",
    "from sklearn.linear_model import LinearRegression\n",
    "from sklearn.model_selection import GridSearchCV\n",
    "import warnings\n",
    "warnings.filterwarnings('ignore', category=FutureWarning)\n",
    "warnings.filterwarnings('ignore', category=DeprecationWarning)"
   ]
  },
  {
   "cell_type": "markdown",
   "id": "31568715",
   "metadata": {},
   "source": [
    "# Reading training data "
   ]
  },
  {
   "cell_type": "code",
   "execution_count": 12,
   "id": "dc8a6d8d",
   "metadata": {},
   "outputs": [],
   "source": [
    "tr_features = pd.read_csv('train_features.csv', header=None)\n",
    "tr_features = tr_features.iloc[:,1].values.reshape(-1,1)\n",
    "\n",
    "tr_labels = pd.read_csv('train_labels.csv', header=None)"
   ]
  },
  {
   "cell_type": "code",
   "execution_count": 13,
   "id": "b2b2ed5b",
   "metadata": {},
   "outputs": [],
   "source": [
    "def print_results(results):\n",
    "    print('BEST PARAMS: {}\\n'.format(results.best_params_))\n",
    "\n",
    "    means = results.cv_results_['mean_test_score']\n",
    "    stds = results.cv_results_['std_test_score']\n",
    "    for mean, std, params in zip(means, stds, results.cv_results_['params']):\n",
    "        print('{} (+/-{}) for {}'.format(round(mean, 3), round(std * 2, 3), params))"
   ]
  },
  {
   "cell_type": "code",
   "execution_count": 14,
   "id": "1369780a",
   "metadata": {},
   "outputs": [
    {
     "name": "stdout",
     "output_type": "stream",
     "text": [
      "BEST PARAMS: {'copy_X': True, 'fit_intercept': True, 'normalize': True}\n",
      "\n",
      "0.867 (+/-0.045) for {'copy_X': True, 'fit_intercept': True, 'normalize': True}\n",
      "0.867 (+/-0.045) for {'copy_X': True, 'fit_intercept': True, 'normalize': False}\n",
      "0.258 (+/-0.017) for {'copy_X': True, 'fit_intercept': False, 'normalize': True}\n",
      "0.258 (+/-0.017) for {'copy_X': True, 'fit_intercept': False, 'normalize': False}\n",
      "0.867 (+/-0.045) for {'copy_X': False, 'fit_intercept': True, 'normalize': True}\n",
      "0.867 (+/-0.045) for {'copy_X': False, 'fit_intercept': True, 'normalize': False}\n",
      "0.258 (+/-0.017) for {'copy_X': False, 'fit_intercept': False, 'normalize': True}\n",
      "0.258 (+/-0.017) for {'copy_X': False, 'fit_intercept': False, 'normalize': False}\n"
     ]
    }
   ],
   "source": [
    "lr = LinearRegression()\n",
    "parameters = {\n",
    "    'fit_intercept':[True,False], \n",
    "    'normalize':[True,False], \n",
    "    'copy_X':[True, False]\n",
    "}\n",
    "\n",
    "cv = GridSearchCV(lr, parameters, cv=5)\n",
    "cv.fit(tr_features, tr_labels)\n",
    "\n",
    "print_results(cv)"
   ]
  },
  {
   "cell_type": "markdown",
   "id": "2fc721a7",
   "metadata": {},
   "source": [
    "# Write out TRAIN model"
   ]
  },
  {
   "cell_type": "code",
   "execution_count": 15,
   "id": "3e95db5c",
   "metadata": {},
   "outputs": [
    {
     "data": {
      "text/plain": [
       "['LinearRegression_model.pkl']"
      ]
     },
     "execution_count": 15,
     "metadata": {},
     "output_type": "execute_result"
    }
   ],
   "source": [
    "joblib.dump(cv.best_estimator_, 'LinearRegression_model.pkl')"
   ]
  },
  {
   "cell_type": "markdown",
   "id": "826b3d3b",
   "metadata": {},
   "source": [
    "# LinearSVR: Fit and evaluate a model"
   ]
  },
  {
   "cell_type": "code",
   "execution_count": 16,
   "id": "212f2752",
   "metadata": {},
   "outputs": [],
   "source": [
    "from sklearn.svm import LinearSVR"
   ]
  },
  {
   "cell_type": "code",
   "execution_count": 17,
   "id": "3400aa4e",
   "metadata": {},
   "outputs": [
    {
     "name": "stdout",
     "output_type": "stream",
     "text": [
      "BEST PARAMS: {'C': 0.1, 'loss': 'epsilon_insensitive'}\n",
      "\n",
      "-15.471 (+/-2.117) for {'C': 0.1, 'loss': 'epsilon_insensitive'}\n",
      "-15.471 (+/-2.117) for {'C': 0.1, 'loss': 'squared_epsilon_insensitive'}\n",
      "-15.471 (+/-2.117) for {'C': 1, 'loss': 'epsilon_insensitive'}\n",
      "-15.471 (+/-2.117) for {'C': 1, 'loss': 'squared_epsilon_insensitive'}\n",
      "-15.471 (+/-2.117) for {'C': 10, 'loss': 'epsilon_insensitive'}\n",
      "-15.471 (+/-2.117) for {'C': 10, 'loss': 'squared_epsilon_insensitive'}\n"
     ]
    }
   ],
   "source": [
    "linear_svr = LinearSVR()\n",
    "parameters = {\n",
    "    'loss': ['epsilon_insensitive', 'squared_epsilon_insensitive'],\n",
    "    'C': [0.1, 1, 10]\n",
    "}\n",
    "\n",
    "cv = GridSearchCV(linear_svr, parameters, cv=5)\n",
    "cv.fit(tr_features, tr_labels)\n",
    "\n",
    "print_results(cv)"
   ]
  },
  {
   "cell_type": "code",
   "execution_count": 18,
   "id": "49d5931f",
   "metadata": {},
   "outputs": [
    {
     "data": {
      "text/html": [
       "<style>#sk-container-id-1 {color: black;background-color: white;}#sk-container-id-1 pre{padding: 0;}#sk-container-id-1 div.sk-toggleable {background-color: white;}#sk-container-id-1 label.sk-toggleable__label {cursor: pointer;display: block;width: 100%;margin-bottom: 0;padding: 0.3em;box-sizing: border-box;text-align: center;}#sk-container-id-1 label.sk-toggleable__label-arrow:before {content: \"▸\";float: left;margin-right: 0.25em;color: #696969;}#sk-container-id-1 label.sk-toggleable__label-arrow:hover:before {color: black;}#sk-container-id-1 div.sk-estimator:hover label.sk-toggleable__label-arrow:before {color: black;}#sk-container-id-1 div.sk-toggleable__content {max-height: 0;max-width: 0;overflow: hidden;text-align: left;background-color: #f0f8ff;}#sk-container-id-1 div.sk-toggleable__content pre {margin: 0.2em;color: black;border-radius: 0.25em;background-color: #f0f8ff;}#sk-container-id-1 input.sk-toggleable__control:checked~div.sk-toggleable__content {max-height: 200px;max-width: 100%;overflow: auto;}#sk-container-id-1 input.sk-toggleable__control:checked~label.sk-toggleable__label-arrow:before {content: \"▾\";}#sk-container-id-1 div.sk-estimator input.sk-toggleable__control:checked~label.sk-toggleable__label {background-color: #d4ebff;}#sk-container-id-1 div.sk-label input.sk-toggleable__control:checked~label.sk-toggleable__label {background-color: #d4ebff;}#sk-container-id-1 input.sk-hidden--visually {border: 0;clip: rect(1px 1px 1px 1px);clip: rect(1px, 1px, 1px, 1px);height: 1px;margin: -1px;overflow: hidden;padding: 0;position: absolute;width: 1px;}#sk-container-id-1 div.sk-estimator {font-family: monospace;background-color: #f0f8ff;border: 1px dotted black;border-radius: 0.25em;box-sizing: border-box;margin-bottom: 0.5em;}#sk-container-id-1 div.sk-estimator:hover {background-color: #d4ebff;}#sk-container-id-1 div.sk-parallel-item::after {content: \"\";width: 100%;border-bottom: 1px solid gray;flex-grow: 1;}#sk-container-id-1 div.sk-label:hover label.sk-toggleable__label {background-color: #d4ebff;}#sk-container-id-1 div.sk-serial::before {content: \"\";position: absolute;border-left: 1px solid gray;box-sizing: border-box;top: 0;bottom: 0;left: 50%;z-index: 0;}#sk-container-id-1 div.sk-serial {display: flex;flex-direction: column;align-items: center;background-color: white;padding-right: 0.2em;padding-left: 0.2em;position: relative;}#sk-container-id-1 div.sk-item {position: relative;z-index: 1;}#sk-container-id-1 div.sk-parallel {display: flex;align-items: stretch;justify-content: center;background-color: white;position: relative;}#sk-container-id-1 div.sk-item::before, #sk-container-id-1 div.sk-parallel-item::before {content: \"\";position: absolute;border-left: 1px solid gray;box-sizing: border-box;top: 0;bottom: 0;left: 50%;z-index: -1;}#sk-container-id-1 div.sk-parallel-item {display: flex;flex-direction: column;z-index: 1;position: relative;background-color: white;}#sk-container-id-1 div.sk-parallel-item:first-child::after {align-self: flex-end;width: 50%;}#sk-container-id-1 div.sk-parallel-item:last-child::after {align-self: flex-start;width: 50%;}#sk-container-id-1 div.sk-parallel-item:only-child::after {width: 0;}#sk-container-id-1 div.sk-dashed-wrapped {border: 1px dashed gray;margin: 0 0.4em 0.5em 0.4em;box-sizing: border-box;padding-bottom: 0.4em;background-color: white;}#sk-container-id-1 div.sk-label label {font-family: monospace;font-weight: bold;display: inline-block;line-height: 1.2em;}#sk-container-id-1 div.sk-label-container {text-align: center;}#sk-container-id-1 div.sk-container {/* jupyter's `normalize.less` sets `[hidden] { display: none; }` but bootstrap.min.css set `[hidden] { display: none !important; }` so we also need the `!important` here to be able to override the default hidden behavior on the sphinx rendered scikit-learn.org. See: https://github.com/scikit-learn/scikit-learn/issues/21755 */display: inline-block !important;position: relative;}#sk-container-id-1 div.sk-text-repr-fallback {display: none;}</style><div id=\"sk-container-id-1\" class=\"sk-top-container\"><div class=\"sk-text-repr-fallback\"><pre>LinearSVR(C=0.1)</pre><b>In a Jupyter environment, please rerun this cell to show the HTML representation or trust the notebook. <br />On GitHub, the HTML representation is unable to render, please try loading this page with nbviewer.org.</b></div><div class=\"sk-container\" hidden><div class=\"sk-item\"><div class=\"sk-estimator sk-toggleable\"><input class=\"sk-toggleable__control sk-hidden--visually\" id=\"sk-estimator-id-1\" type=\"checkbox\" checked><label for=\"sk-estimator-id-1\" class=\"sk-toggleable__label sk-toggleable__label-arrow\">LinearSVR</label><div class=\"sk-toggleable__content\"><pre>LinearSVR(C=0.1)</pre></div></div></div></div></div>"
      ],
      "text/plain": [
       "LinearSVR(C=0.1)"
      ]
     },
     "execution_count": 18,
     "metadata": {},
     "output_type": "execute_result"
    }
   ],
   "source": [
    "cv.best_estimator_"
   ]
  },
  {
   "cell_type": "markdown",
   "id": "763f93ae",
   "metadata": {},
   "source": [
    "# Write out TRAIN model"
   ]
  },
  {
   "cell_type": "code",
   "execution_count": 19,
   "id": "29a5701b",
   "metadata": {},
   "outputs": [
    {
     "data": {
      "text/plain": [
       "['LinearSVR_model.pkl']"
      ]
     },
     "execution_count": 19,
     "metadata": {},
     "output_type": "execute_result"
    }
   ],
   "source": [
    "joblib.dump(cv.best_estimator_, 'LinearSVR_model.pkl')"
   ]
  },
  {
   "cell_type": "markdown",
   "id": "cc30e08a",
   "metadata": {},
   "source": [
    "# MLPRegressor: Fit and evaluate a model"
   ]
  },
  {
   "cell_type": "code",
   "execution_count": 20,
   "id": "d244b359",
   "metadata": {},
   "outputs": [],
   "source": [
    "from sklearn.neural_network import MLPRegressor"
   ]
  },
  {
   "cell_type": "code",
   "execution_count": 21,
   "id": "3a19fdfd",
   "metadata": {},
   "outputs": [
    {
     "name": "stdout",
     "output_type": "stream",
     "text": [
      "BEST PARAMS: {'activation': 'identity', 'hidden_layer_sizes': (50,), 'learning_rate': 'constant'}\n",
      "\n",
      "-8.434971646534769e+18 (+/-3.3739886586139075e+19) for {'activation': 'identity', 'hidden_layer_sizes': (10,), 'learning_rate': 'constant'}\n",
      "-8.390306029082986e+17 (+/-3.3561224116331945e+18) for {'activation': 'identity', 'hidden_layer_sizes': (10,), 'learning_rate': 'invscaling'}\n",
      "-2.3698301017986668e+16 (+/-9.479320407194667e+16) for {'activation': 'identity', 'hidden_layer_sizes': (10,), 'learning_rate': 'adaptive'}\n",
      "0.257 (+/-0.026) for {'activation': 'identity', 'hidden_layer_sizes': (50,), 'learning_rate': 'constant'}\n",
      "0.232 (+/-0.085) for {'activation': 'identity', 'hidden_layer_sizes': (50,), 'learning_rate': 'invscaling'}\n",
      "-0.214 (+/-1.155) for {'activation': 'identity', 'hidden_layer_sizes': (50,), 'learning_rate': 'adaptive'}\n",
      "-0.604 (+/-3.418) for {'activation': 'identity', 'hidden_layer_sizes': (100,), 'learning_rate': 'constant'}\n",
      "-0.128 (+/-0.992) for {'activation': 'identity', 'hidden_layer_sizes': (100,), 'learning_rate': 'invscaling'}\n",
      "0.255 (+/-0.01) for {'activation': 'identity', 'hidden_layer_sizes': (100,), 'learning_rate': 'adaptive'}\n",
      "-3528660.365 (+/-14114642.209) for {'activation': 'relu', 'hidden_layer_sizes': (10,), 'learning_rate': 'constant'}\n",
      "-108472.889 (+/-433892.228) for {'activation': 'relu', 'hidden_layer_sizes': (10,), 'learning_rate': 'invscaling'}\n",
      "-595560985198684.0 (+/-2382243939962594.5) for {'activation': 'relu', 'hidden_layer_sizes': (10,), 'learning_rate': 'adaptive'}\n",
      "-2.6988813469194125e+19 (+/-1.0758324123236373e+20) for {'activation': 'relu', 'hidden_layer_sizes': (50,), 'learning_rate': 'constant'}\n",
      "-9.027553294658252e+18 (+/-3.5929964711311794e+19) for {'activation': 'relu', 'hidden_layer_sizes': (50,), 'learning_rate': 'invscaling'}\n",
      "-5.362598679370537e+18 (+/-1.545581340357806e+19) for {'activation': 'relu', 'hidden_layer_sizes': (50,), 'learning_rate': 'adaptive'}\n",
      "-1.9207608562870872e+20 (+/-7.56496680022063e+20) for {'activation': 'relu', 'hidden_layer_sizes': (100,), 'learning_rate': 'constant'}\n",
      "-1.4397180530864597e+20 (+/-4.994369207310397e+20) for {'activation': 'relu', 'hidden_layer_sizes': (100,), 'learning_rate': 'invscaling'}\n",
      "-5.261570436621671e+20 (+/-1.8115805341529942e+21) for {'activation': 'relu', 'hidden_layer_sizes': (100,), 'learning_rate': 'adaptive'}\n",
      "-15.433 (+/-2.172) for {'activation': 'tanh', 'hidden_layer_sizes': (10,), 'learning_rate': 'constant'}\n",
      "-15.373 (+/-2.174) for {'activation': 'tanh', 'hidden_layer_sizes': (10,), 'learning_rate': 'invscaling'}\n",
      "-15.413 (+/-2.058) for {'activation': 'tanh', 'hidden_layer_sizes': (10,), 'learning_rate': 'adaptive'}\n",
      "-15.146 (+/-2.093) for {'activation': 'tanh', 'hidden_layer_sizes': (50,), 'learning_rate': 'constant'}\n",
      "-15.212 (+/-2.13) for {'activation': 'tanh', 'hidden_layer_sizes': (50,), 'learning_rate': 'invscaling'}\n",
      "-15.1 (+/-2.075) for {'activation': 'tanh', 'hidden_layer_sizes': (50,), 'learning_rate': 'adaptive'}\n",
      "-14.786 (+/-1.95) for {'activation': 'tanh', 'hidden_layer_sizes': (100,), 'learning_rate': 'constant'}\n",
      "-14.932 (+/-1.956) for {'activation': 'tanh', 'hidden_layer_sizes': (100,), 'learning_rate': 'invscaling'}\n",
      "-14.833 (+/-2.036) for {'activation': 'tanh', 'hidden_layer_sizes': (100,), 'learning_rate': 'adaptive'}\n",
      "-15.434 (+/-2.137) for {'activation': 'logistic', 'hidden_layer_sizes': (10,), 'learning_rate': 'constant'}\n",
      "-15.435 (+/-2.136) for {'activation': 'logistic', 'hidden_layer_sizes': (10,), 'learning_rate': 'invscaling'}\n",
      "-15.448 (+/-2.122) for {'activation': 'logistic', 'hidden_layer_sizes': (10,), 'learning_rate': 'adaptive'}\n",
      "-15.357 (+/-2.082) for {'activation': 'logistic', 'hidden_layer_sizes': (50,), 'learning_rate': 'constant'}\n",
      "-15.296 (+/-2.182) for {'activation': 'logistic', 'hidden_layer_sizes': (50,), 'learning_rate': 'invscaling'}\n",
      "-15.23 (+/-2.077) for {'activation': 'logistic', 'hidden_layer_sizes': (50,), 'learning_rate': 'adaptive'}\n",
      "-15.074 (+/-1.907) for {'activation': 'logistic', 'hidden_layer_sizes': (100,), 'learning_rate': 'constant'}\n",
      "-15.142 (+/-1.826) for {'activation': 'logistic', 'hidden_layer_sizes': (100,), 'learning_rate': 'invscaling'}\n",
      "-15.001 (+/-1.87) for {'activation': 'logistic', 'hidden_layer_sizes': (100,), 'learning_rate': 'adaptive'}\n"
     ]
    }
   ],
   "source": [
    "mlp_regression = MLPRegressor()\n",
    "parameters = {\n",
    "    'hidden_layer_sizes': [(10,), (50,), (100,)],\n",
    "    'activation': ['identity', 'relu', 'tanh', 'logistic'],\n",
    "    'learning_rate': ['constant', 'invscaling', 'adaptive']\n",
    "}\n",
    "\n",
    "cv = GridSearchCV(mlp_regression, parameters, cv=5)\n",
    "cv.fit(tr_features, tr_labels)\n",
    "\n",
    "print_results(cv)"
   ]
  },
  {
   "cell_type": "code",
   "execution_count": 22,
   "id": "c6e7814f",
   "metadata": {},
   "outputs": [
    {
     "data": {
      "text/html": [
       "<style>#sk-container-id-2 {color: black;background-color: white;}#sk-container-id-2 pre{padding: 0;}#sk-container-id-2 div.sk-toggleable {background-color: white;}#sk-container-id-2 label.sk-toggleable__label {cursor: pointer;display: block;width: 100%;margin-bottom: 0;padding: 0.3em;box-sizing: border-box;text-align: center;}#sk-container-id-2 label.sk-toggleable__label-arrow:before {content: \"▸\";float: left;margin-right: 0.25em;color: #696969;}#sk-container-id-2 label.sk-toggleable__label-arrow:hover:before {color: black;}#sk-container-id-2 div.sk-estimator:hover label.sk-toggleable__label-arrow:before {color: black;}#sk-container-id-2 div.sk-toggleable__content {max-height: 0;max-width: 0;overflow: hidden;text-align: left;background-color: #f0f8ff;}#sk-container-id-2 div.sk-toggleable__content pre {margin: 0.2em;color: black;border-radius: 0.25em;background-color: #f0f8ff;}#sk-container-id-2 input.sk-toggleable__control:checked~div.sk-toggleable__content {max-height: 200px;max-width: 100%;overflow: auto;}#sk-container-id-2 input.sk-toggleable__control:checked~label.sk-toggleable__label-arrow:before {content: \"▾\";}#sk-container-id-2 div.sk-estimator input.sk-toggleable__control:checked~label.sk-toggleable__label {background-color: #d4ebff;}#sk-container-id-2 div.sk-label input.sk-toggleable__control:checked~label.sk-toggleable__label {background-color: #d4ebff;}#sk-container-id-2 input.sk-hidden--visually {border: 0;clip: rect(1px 1px 1px 1px);clip: rect(1px, 1px, 1px, 1px);height: 1px;margin: -1px;overflow: hidden;padding: 0;position: absolute;width: 1px;}#sk-container-id-2 div.sk-estimator {font-family: monospace;background-color: #f0f8ff;border: 1px dotted black;border-radius: 0.25em;box-sizing: border-box;margin-bottom: 0.5em;}#sk-container-id-2 div.sk-estimator:hover {background-color: #d4ebff;}#sk-container-id-2 div.sk-parallel-item::after {content: \"\";width: 100%;border-bottom: 1px solid gray;flex-grow: 1;}#sk-container-id-2 div.sk-label:hover label.sk-toggleable__label {background-color: #d4ebff;}#sk-container-id-2 div.sk-serial::before {content: \"\";position: absolute;border-left: 1px solid gray;box-sizing: border-box;top: 0;bottom: 0;left: 50%;z-index: 0;}#sk-container-id-2 div.sk-serial {display: flex;flex-direction: column;align-items: center;background-color: white;padding-right: 0.2em;padding-left: 0.2em;position: relative;}#sk-container-id-2 div.sk-item {position: relative;z-index: 1;}#sk-container-id-2 div.sk-parallel {display: flex;align-items: stretch;justify-content: center;background-color: white;position: relative;}#sk-container-id-2 div.sk-item::before, #sk-container-id-2 div.sk-parallel-item::before {content: \"\";position: absolute;border-left: 1px solid gray;box-sizing: border-box;top: 0;bottom: 0;left: 50%;z-index: -1;}#sk-container-id-2 div.sk-parallel-item {display: flex;flex-direction: column;z-index: 1;position: relative;background-color: white;}#sk-container-id-2 div.sk-parallel-item:first-child::after {align-self: flex-end;width: 50%;}#sk-container-id-2 div.sk-parallel-item:last-child::after {align-self: flex-start;width: 50%;}#sk-container-id-2 div.sk-parallel-item:only-child::after {width: 0;}#sk-container-id-2 div.sk-dashed-wrapped {border: 1px dashed gray;margin: 0 0.4em 0.5em 0.4em;box-sizing: border-box;padding-bottom: 0.4em;background-color: white;}#sk-container-id-2 div.sk-label label {font-family: monospace;font-weight: bold;display: inline-block;line-height: 1.2em;}#sk-container-id-2 div.sk-label-container {text-align: center;}#sk-container-id-2 div.sk-container {/* jupyter's `normalize.less` sets `[hidden] { display: none; }` but bootstrap.min.css set `[hidden] { display: none !important; }` so we also need the `!important` here to be able to override the default hidden behavior on the sphinx rendered scikit-learn.org. See: https://github.com/scikit-learn/scikit-learn/issues/21755 */display: inline-block !important;position: relative;}#sk-container-id-2 div.sk-text-repr-fallback {display: none;}</style><div id=\"sk-container-id-2\" class=\"sk-top-container\"><div class=\"sk-text-repr-fallback\"><pre>MLPRegressor(activation=&#x27;identity&#x27;, hidden_layer_sizes=(50,))</pre><b>In a Jupyter environment, please rerun this cell to show the HTML representation or trust the notebook. <br />On GitHub, the HTML representation is unable to render, please try loading this page with nbviewer.org.</b></div><div class=\"sk-container\" hidden><div class=\"sk-item\"><div class=\"sk-estimator sk-toggleable\"><input class=\"sk-toggleable__control sk-hidden--visually\" id=\"sk-estimator-id-2\" type=\"checkbox\" checked><label for=\"sk-estimator-id-2\" class=\"sk-toggleable__label sk-toggleable__label-arrow\">MLPRegressor</label><div class=\"sk-toggleable__content\"><pre>MLPRegressor(activation=&#x27;identity&#x27;, hidden_layer_sizes=(50,))</pre></div></div></div></div></div>"
      ],
      "text/plain": [
       "MLPRegressor(activation='identity', hidden_layer_sizes=(50,))"
      ]
     },
     "execution_count": 22,
     "metadata": {},
     "output_type": "execute_result"
    }
   ],
   "source": [
    "cv.best_estimator_"
   ]
  },
  {
   "cell_type": "code",
   "execution_count": 23,
   "id": "9e6d1c09",
   "metadata": {},
   "outputs": [
    {
     "data": {
      "text/plain": [
       "['MLPRegressor_model.pkl']"
      ]
     },
     "execution_count": 23,
     "metadata": {},
     "output_type": "execute_result"
    }
   ],
   "source": [
    "joblib.dump(cv.best_estimator_, 'MLPRegressor_model.pkl')"
   ]
  },
  {
   "cell_type": "markdown",
   "id": "08373f98",
   "metadata": {},
   "source": [
    "# Read Testing and Validation data"
   ]
  },
  {
   "cell_type": "code",
   "execution_count": 24,
   "id": "28c0c24a",
   "metadata": {},
   "outputs": [],
   "source": [
    "val_features = pd.read_csv('val_features.csv', header=None)\n",
    "val_features = val_features.iloc[:,1].values.reshape(-1,1)\n",
    "val_labels = pd.read_csv('val_labels.csv', header=None)\n",
    "\n",
    "te_features = pd.read_csv('test_features.csv', header=None)\n",
    "te_features = te_features.iloc[:,1].values.reshape(-1,1)\n",
    "te_labels = pd.read_csv('test_labels.csv', header=None)"
   ]
  },
  {
   "cell_type": "markdown",
   "id": "7bdc6dbf",
   "metadata": {},
   "source": [
    "# Read in Models"
   ]
  },
  {
   "cell_type": "code",
   "execution_count": 25,
   "id": "eb9cc1b6",
   "metadata": {},
   "outputs": [],
   "source": [
    "models = {}\n",
    "\n",
    "for mdl in ['LinearRegression', 'LinearSVR', 'MLPRegressor']:\n",
    "    models[mdl] = joblib.load('{}_model.pkl'.format(mdl))"
   ]
  },
  {
   "cell_type": "code",
   "execution_count": 26,
   "id": "69565e93",
   "metadata": {},
   "outputs": [
    {
     "data": {
      "text/plain": [
       "{'LinearRegression': LinearRegression(normalize=True),\n",
       " 'LinearSVR': LinearSVR(C=0.1),\n",
       " 'MLPRegressor': MLPRegressor(activation='identity', hidden_layer_sizes=(50,))}"
      ]
     },
     "execution_count": 26,
     "metadata": {},
     "output_type": "execute_result"
    }
   ],
   "source": [
    "models"
   ]
  },
  {
   "cell_type": "code",
   "execution_count": 27,
   "id": "55785f98",
   "metadata": {},
   "outputs": [],
   "source": [
    "def evaluate_model(name, model, features, labels):\n",
    "    score = model.score(features, labels)\n",
    "    print('{} -- Score: {}'.format(name, score))"
   ]
  },
  {
   "cell_type": "code",
   "execution_count": 29,
   "id": "c4fa86d3",
   "metadata": {
    "scrolled": true
   },
   "outputs": [
    {
     "name": "stdout",
     "output_type": "stream",
     "text": [
      "LinearRegression -- Score: 0.8834777353963266\n",
      "LinearSVR -- Score: -15.844494539213233\n",
      "MLPRegressor -- Score: 0.26496392544527325\n"
     ]
    }
   ],
   "source": [
    "for name, mdl in models.items():\n",
    "    evaluate_model(name, mdl, val_features, val_labels)"
   ]
  },
  {
   "cell_type": "markdown",
   "id": "d5f059d0",
   "metadata": {},
   "source": [
    "# Best model validation data"
   ]
  },
  {
   "cell_type": "code",
   "execution_count": 30,
   "id": "089bbe7b",
   "metadata": {},
   "outputs": [
    {
     "name": "stdout",
     "output_type": "stream",
     "text": [
      "LinearRegression -- Score: 0.8816760951354526\n"
     ]
    }
   ],
   "source": [
    "evaluate_model('LinearRegression', models['LinearRegression'], te_features, te_labels)"
   ]
  }
 ],
 "metadata": {
  "kernelspec": {
   "display_name": "Python 3 (ipykernel)",
   "language": "python",
   "name": "python3"
  },
  "language_info": {
   "codemirror_mode": {
    "name": "ipython",
    "version": 3
   },
   "file_extension": ".py",
   "mimetype": "text/x-python",
   "name": "python",
   "nbconvert_exporter": "python",
   "pygments_lexer": "ipython3",
   "version": "3.9.7"
  }
 },
 "nbformat": 4,
 "nbformat_minor": 5
}
